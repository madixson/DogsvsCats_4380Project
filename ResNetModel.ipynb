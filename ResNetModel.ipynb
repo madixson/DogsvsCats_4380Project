{
  "cells": [
    {
      "cell_type": "markdown",
      "metadata": {
        "id": "view-in-github",
        "colab_type": "text"
      },
      "source": [
        "<a href=\"https://colab.research.google.com/github/madixson/DogsvsCats_4380Project/blob/main/ResNetModel.ipynb\" target=\"_parent\"><img src=\"https://colab.research.google.com/assets/colab-badge.svg\" alt=\"Open In Colab\"/></a>"
      ]
    },
    {
      "cell_type": "code",
      "execution_count": null,
      "metadata": {
        "colab": {
          "base_uri": "https://localhost:8080/"
        },
        "id": "0WcZkHeGgJFs",
        "outputId": "14c29f77-ca2d-4176-8b1e-5cee7880376b"
      },
      "outputs": [
        {
          "name": "stdout",
          "output_type": "stream",
          "text": [
            "Mounted at /content/drive\n"
          ]
        }
      ],
      "source": [
        "from google.colab import drive\n",
        "drive.mount('/content/drive')"
      ]
    },
    {
      "cell_type": "markdown",
      "metadata": {
        "id": "nuxp91TwmTpa"
      },
      "source": [
        "## Build ResNet Model with pretrained parameters"
      ]
    },
    {
      "cell_type": "code",
      "execution_count": null,
      "metadata": {
        "colab": {
          "background_save": true,
          "base_uri": "https://localhost:8080/"
        },
        "id": "YFMAbp0ImS4Y",
        "outputId": "20ce49b9-db84-4730-e913-7bd416e29446"
      },
      "outputs": [
        {
          "name": "stdout",
          "output_type": "stream",
          "text": [
            "Found 18796 images belonging to 2 classes.\n",
            "Found 6344 images belonging to 2 classes.\n",
            "Downloading data from https://storage.googleapis.com/tensorflow/keras-applications/resnet/resnet50_weights_tf_dim_ordering_tf_kernels_notop.h5\n",
            "94765736/94765736 [==============================] - 0s 0us/step\n",
            "Epoch 1/10\n",
            "587/587 [==============================] - 5619s 10s/step - loss: 0.6563 - accuracy: 0.6096 - val_loss: 0.6314 - val_accuracy: 0.6403\n",
            "Epoch 2/10\n",
            "587/587 [==============================] - 5263s 9s/step - loss: 0.6374 - accuracy: 0.6327 - val_loss: 0.6474 - val_accuracy: 0.6078\n",
            "Epoch 3/10\n",
            "587/587 [==============================] - 5147s 9s/step - loss: 0.6262 - accuracy: 0.6476 - val_loss: 0.6490 - val_accuracy: 0.6128\n",
            "Epoch 4/10\n",
            "587/587 [==============================] - 5073s 9s/step - loss: 0.6191 - accuracy: 0.6571 - val_loss: 0.5991 - val_accuracy: 0.6785\n",
            "Epoch 5/10\n",
            "587/587 [==============================] - 5066s 9s/step - loss: 0.6167 - accuracy: 0.6548 - val_loss: 0.6144 - val_accuracy: 0.6600\n",
            "Epoch 6/10\n",
            "587/587 [==============================] - 5189s 9s/step - loss: 0.6102 - accuracy: 0.6647 - val_loss: 0.5953 - val_accuracy: 0.6783\n",
            "Epoch 7/10\n",
            "587/587 [==============================] - 5106s 9s/step - loss: 0.6039 - accuracy: 0.6688 - val_loss: 0.5946 - val_accuracy: 0.6753\n",
            "Epoch 8/10\n",
            "587/587 [==============================] - 5072s 9s/step - loss: 0.6034 - accuracy: 0.6708 - val_loss: 0.5844 - val_accuracy: 0.6955\n",
            "Epoch 9/10\n",
            "587/587 [==============================] - 5052s 9s/step - loss: 0.5899 - accuracy: 0.6836 - val_loss: 0.5884 - val_accuracy: 0.6829\n",
            "Epoch 10/10\n",
            "587/587 [==============================] - 5082s 9s/step - loss: 0.5884 - accuracy: 0.6855 - val_loss: 0.5962 - val_accuracy: 0.6771\n"
          ]
        }
      ],
      "source": [
        "# Import necessary packages\n",
        "import os\n",
        "import numpy as np\n",
        "import tensorflow as tf\n",
        "from tensorflow.keras.preprocessing.image import ImageDataGenerator\n",
        "from tensorflow.keras.applications.resnet50 import ResNet50\n",
        "from tensorflow.keras.layers import Dense, GlobalAveragePooling2D\n",
        "from tensorflow.keras.models import Model\n",
        "\n",
        "# Set the data directories\n",
        "train_dir = '/content/drive/MyDrive/DATA_4380/dataset_dogs_vs_cats/train/'\n",
        "test_dir = '/content/drive/MyDrive/DATA_4380/dataset_dogs_vs_cats/test/'\n",
        "\n",
        "# Set the image size and batch size\n",
        "img_size = (224, 224)\n",
        "batch_size = 32\n",
        "\n",
        "# Use the ImageDataGenerator class to rescale the pixel values of the images\n",
        "train_datagen = ImageDataGenerator(rescale=1./255)\n",
        "test_datagen = ImageDataGenerator(rescale=1./255)\n",
        "\n",
        "# Generate batches of training and test data\n",
        "train_generator = train_datagen.flow_from_directory(\n",
        "    train_dir,\n",
        "    target_size=img_size,\n",
        "    batch_size=batch_size,\n",
        "    class_mode='binary'\n",
        ")\n",
        "test_generator = test_datagen.flow_from_directory(\n",
        "    test_dir,\n",
        "    target_size=img_size,\n",
        "    batch_size=batch_size,\n",
        "    class_mode='binary'\n",
        ")\n",
        "\n",
        "# Load pre-trained ResNet50 model without the top layer\n",
        "base_model = ResNet50(weights='imagenet', include_top=False, input_shape=(224, 224, 3))\n",
        "\n",
        "# Add new top layers for classification\n",
        "x = base_model.output\n",
        "x = GlobalAveragePooling2D()(x)\n",
        "x = Dense(256, activation='relu')(x)\n",
        "predictions = Dense(1, activation='sigmoid')(x)\n",
        "\n",
        "# Combine base model with new top layers\n",
        "model = Model(inputs=base_model.input, outputs=predictions)\n",
        "\n",
        "# Freeze layers in base model\n",
        "for layer in base_model.layers:\n",
        "    layer.trainable = False\n",
        "\n",
        "# Compile model\n",
        "model.compile(optimizer='adam', loss='binary_crossentropy', metrics=['accuracy'])\n",
        "\n",
        "# Train model\n",
        "history_resnet = model.fit(train_generator, steps_per_epoch=train_generator.n//train_generator.batch_size,\n",
        "          epochs=10, validation_data=test_generator, validation_steps=test_generator.n//test_generator.batch_size)\n"
      ]
    },
    {
      "cell_type": "markdown",
      "metadata": {
        "id": "X9N6n6GGnLv6"
      },
      "source": [
        "## Save results\n",
        "Use pickle package to save training results for analysis result"
      ]
    },
    {
      "cell_type": "code",
      "execution_count": 6,
      "metadata": {
        "id": "Fxk1kdesnL56"
      },
      "outputs": [],
      "source": [
        "import pickle\n",
        "\n",
        "with open('/content/drive/MyDrive/DATA_4380/history_resnet.pkl', 'wb') as f:\n",
        "    pickle.dump(history_resnet.history, f)"
      ]
    }
  ],
  "metadata": {
    "colab": {
      "provenance": [],
      "authorship_tag": "ABX9TyMqQC80Y/DDnEYEWl5otJBz",
      "include_colab_link": true
    },
    "kernelspec": {
      "display_name": "Python 3",
      "name": "python3"
    },
    "language_info": {
      "name": "python"
    }
  },
  "nbformat": 4,
  "nbformat_minor": 0
}
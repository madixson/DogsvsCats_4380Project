{
  "cells": [
    {
      "cell_type": "markdown",
      "metadata": {
        "id": "view-in-github",
        "colab_type": "text"
      },
      "source": [
        "<a href=\"https://colab.research.google.com/github/madixson/DogsvsCats_4380Project/blob/main/DogCat_Project.ipynb\" target=\"_parent\"><img src=\"https://colab.research.google.com/assets/colab-badge.svg\" alt=\"Open In Colab\"/></a>"
      ]
    },
    {
      "cell_type": "code",
      "source": [
        "from google.colab import drive\n",
        "drive.mount('/content/drive')"
      ],
      "metadata": {
        "id": "W8nAvWG4HGos",
        "colab": {
          "base_uri": "https://localhost:8080/"
        },
        "outputId": "af9ad3d1-ebdb-4d37-d63d-af383569bf92"
      },
      "id": "W8nAvWG4HGos",
      "execution_count": null,
      "outputs": [
        {
          "output_type": "stream",
          "name": "stdout",
          "text": [
            "Mounted at /content/drive\n"
          ]
        }
      ]
    },
    {
      "cell_type": "code",
      "source": [
        "# /content/drive/MyDrive/\n",
        "\n",
        "import os\n",
        "import numpy as np\n",
        "import tensorflow as tf\n",
        "from tensorflow.keras.preprocessing.image import ImageDataGenerator\n",
        "\n",
        "# Set the data directories\n",
        "train_dir = '/content/drive/MyDrive/DATA_4380/dataset_dogs_vs_cats/train/'\n",
        "test_dir = '/content/drive/MyDrive/DATA_4380/dataset_dogs_vs_cats/test/'\n",
        "\n",
        "# Set the image size and batch size\n",
        "img_size = (150, 150)\n",
        "batch_size = 32\n",
        "\n",
        "# Use the ImageDataGenerator class to rescale the pixel values of the images\n",
        "train_datagen = ImageDataGenerator(rescale=1./255)\n",
        "test_datagen = ImageDataGenerator(rescale=1./255)\n",
        "\n",
        "# Generate batches of training and test data\n",
        "train_generator = train_datagen.flow_from_directory(\n",
        "    train_dir,\n",
        "    target_size=img_size,\n",
        "    batch_size=batch_size,\n",
        "    class_mode='binary'\n",
        ")\n",
        "test_generator = test_datagen.flow_from_directory(\n",
        "    test_dir,\n",
        "    target_size=img_size,\n",
        "    batch_size=batch_size,\n",
        "    class_mode='binary'\n",
        ")\n",
        "\n",
        "# Build the CNN model\n",
        "model = tf.keras.models.Sequential([\n",
        "    tf.keras.layers.Conv2D(32, (3,3), activation='relu', input_shape=(150,150,3)),\n",
        "    tf.keras.layers.MaxPooling2D(2,2),\n",
        "    tf.keras.layers.Conv2D(64, (3,3), activation='relu'),\n",
        "    tf.keras.layers.MaxPooling2D(2,2),\n",
        "    tf.keras.layers.Conv2D(128, (3,3), activation='relu'),\n",
        "    tf.keras.layers.MaxPooling2D(2,2),\n",
        "    tf.keras.layers.Flatten(),\n",
        "    tf.keras.layers.Dense(512, activation='relu'),\n",
        "    tf.keras.layers.Dense(1, activation='sigmoid')\n",
        "])\n",
        "\n",
        "# Compile the model\n",
        "model.compile(loss='binary_crossentropy', optimizer=tf.keras.optimizers.RMSprop(lr=1e-4), metrics=['accuracy'])\n",
        "\n",
        "# Train the model\n",
        "history = model.fit(train_generator, steps_per_epoch=len(train_generator), epochs=20, validation_data=test_generator, validation_steps=len(test_generator))\n",
        "\n"
      ],
      "metadata": {
        "colab": {
          "base_uri": "https://localhost:8080/"
        },
        "id": "zy0v7nZ17y9B",
        "outputId": "76959d07-0cc4-4e56-fbd9-c151be8dfe0a"
      },
      "id": "zy0v7nZ17y9B",
      "execution_count": null,
      "outputs": [
        {
          "metadata": {
            "tags": null
          },
          "name": "stdout",
          "output_type": "stream",
          "text": [
            "Found 18796 images belonging to 2 classes.\n",
            "Found 6344 images belonging to 2 classes.\n"
          ]
        },
        {
          "metadata": {
            "tags": null
          },
          "name": "stderr",
          "output_type": "stream",
          "text": [
            "WARNING:absl:`lr` is deprecated, please use `learning_rate` instead, or use the legacy optimizer, e.g.,tf.keras.optimizers.legacy.RMSprop.\n"
          ]
        },
        {
          "output_type": "stream",
          "name": "stdout",
          "text": [
            "Epoch 1/20\n",
            "588/588 [==============================] - 3893s 7s/step - loss: 0.6438 - accuracy: 0.6430 - val_loss: 0.5427 - val_accuracy: 0.7164\n",
            "Epoch 2/20\n",
            "588/588 [==============================] - 666s 1s/step - loss: 0.4960 - accuracy: 0.7562 - val_loss: 0.4423 - val_accuracy: 0.7877\n",
            "Epoch 3/20\n",
            "588/588 [==============================] - 665s 1s/step - loss: 0.4211 - accuracy: 0.8077 - val_loss: 0.4289 - val_accuracy: 0.7997\n",
            "Epoch 4/20\n",
            "588/588 [==============================] - 654s 1s/step - loss: 0.3590 - accuracy: 0.8430 - val_loss: 0.4079 - val_accuracy: 0.8069\n",
            "Epoch 5/20\n",
            "588/588 [==============================] - 654s 1s/step - loss: 0.2833 - accuracy: 0.8813 - val_loss: 0.3903 - val_accuracy: 0.8339\n",
            "Epoch 6/20\n",
            "588/588 [==============================] - 657s 1s/step - loss: 0.1923 - accuracy: 0.9212 - val_loss: 0.4479 - val_accuracy: 0.8408\n",
            "Epoch 7/20\n",
            "588/588 [==============================] - 662s 1s/step - loss: 0.1150 - accuracy: 0.9583 - val_loss: 0.5663 - val_accuracy: 0.8230\n",
            "Epoch 8/20\n",
            "588/588 [==============================] - 665s 1s/step - loss: 0.0667 - accuracy: 0.9767 - val_loss: 0.7064 - val_accuracy: 0.8265\n",
            "Epoch 9/20\n",
            "588/588 [==============================] - 667s 1s/step - loss: 0.0434 - accuracy: 0.9864 - val_loss: 1.0594 - val_accuracy: 0.8008\n",
            "Epoch 10/20\n",
            "588/588 [==============================] - 672s 1s/step - loss: 0.0439 - accuracy: 0.9880 - val_loss: 1.1746 - val_accuracy: 0.8099\n",
            "Epoch 11/20\n",
            "588/588 [==============================] - 667s 1s/step - loss: 0.0313 - accuracy: 0.9912 - val_loss: 1.2553 - val_accuracy: 0.8201\n",
            "Epoch 12/20\n",
            "588/588 [==============================] - 666s 1s/step - loss: 0.0290 - accuracy: 0.9913 - val_loss: 1.3346 - val_accuracy: 0.8127\n",
            "Epoch 13/20\n",
            "588/588 [==============================] - 671s 1s/step - loss: 0.0281 - accuracy: 0.9919 - val_loss: 1.3637 - val_accuracy: 0.8239\n",
            "Epoch 14/20\n",
            "588/588 [==============================] - 671s 1s/step - loss: 0.0209 - accuracy: 0.9939 - val_loss: 1.4560 - val_accuracy: 0.8288\n",
            "Epoch 15/20\n",
            "588/588 [==============================] - 666s 1s/step - loss: 0.0260 - accuracy: 0.9943 - val_loss: 1.9375 - val_accuracy: 0.8119\n",
            "Epoch 16/20\n",
            "588/588 [==============================] - 668s 1s/step - loss: 0.0254 - accuracy: 0.9934 - val_loss: 1.2804 - val_accuracy: 0.8179\n",
            "Epoch 17/20\n",
            "588/588 [==============================] - 670s 1s/step - loss: 0.0185 - accuracy: 0.9947 - val_loss: 1.8605 - val_accuracy: 0.8228\n",
            "Epoch 18/20\n",
            "588/588 [==============================] - 671s 1s/step - loss: 0.0203 - accuracy: 0.9953 - val_loss: 2.3414 - val_accuracy: 0.8110\n",
            "Epoch 19/20\n",
            "588/588 [==============================] - 668s 1s/step - loss: 0.0237 - accuracy: 0.9947 - val_loss: 1.8937 - val_accuracy: 0.8222\n",
            "Epoch 20/20\n",
            " 20/588 [>.............................] - ETA: 9:14 - loss: 0.0065 - accuracy: 0.9984"
          ]
        }
      ]
    },
    {
      "cell_type": "code",
      "source": [],
      "metadata": {
        "id": "gDkeUqGP-NGK"
      },
      "id": "gDkeUqGP-NGK",
      "execution_count": null,
      "outputs": []
    }
  ],
  "metadata": {
    "kernelspec": {
      "display_name": "Python 3 (ipykernel)",
      "language": "python",
      "name": "python3"
    },
    "language_info": {
      "codemirror_mode": {
        "name": "ipython",
        "version": 3
      },
      "file_extension": ".py",
      "mimetype": "text/x-python",
      "name": "python",
      "nbconvert_exporter": "python",
      "pygments_lexer": "ipython3",
      "version": "3.9.7"
    },
    "colab": {
      "provenance": [],
      "machine_shape": "hm",
      "include_colab_link": true
    },
    "gpuClass": "standard"
  },
  "nbformat": 4,
  "nbformat_minor": 5
}
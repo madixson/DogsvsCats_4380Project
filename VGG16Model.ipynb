{
  "cells": [
    {
      "cell_type": "markdown",
      "metadata": {
        "id": "view-in-github",
        "colab_type": "text"
      },
      "source": [
        "<a href=\"https://colab.research.google.com/github/madixson/DogsvsCats_4380Project/blob/main/VGG16Model.ipynb\" target=\"_parent\"><img src=\"https://colab.research.google.com/assets/colab-badge.svg\" alt=\"Open In Colab\"/></a>"
      ]
    },
    {
      "cell_type": "code",
      "execution_count": null,
      "metadata": {
        "colab": {
          "base_uri": "https://localhost:8080/"
        },
        "id": "f9SW7_Kvefw4",
        "outputId": "10d25d98-e354-4006-b990-2ba00287507f"
      },
      "outputs": [
        {
          "name": "stdout",
          "output_type": "stream",
          "text": [
            "Mounted at /content/drive\n"
          ]
        }
      ],
      "source": [
        "from google.colab import drive\n",
        "drive.mount('/content/drive')"
      ]
    },
    {
      "cell_type": "markdown",
      "metadata": {
        "id": "siIZQZJ_kDO9"
      },
      "source": [
        "## Pretrained VGG16 Model"
      ]
    },
    {
      "cell_type": "code",
      "execution_count": null,
      "metadata": {
        "colab": {
          "background_save": true,
          "base_uri": "https://localhost:8080/"
        },
        "id": "dCK-RlWfkDea",
        "outputId": "673bf65a-c0c8-43fc-d97a-7e85d25b9526"
      },
      "outputs": [
        {
          "name": "stdout",
          "output_type": "stream",
          "text": [
            "Found 18796 images belonging to 2 classes.\n",
            "Found 6344 images belonging to 2 classes.\n",
            "Downloading data from https://storage.googleapis.com/tensorflow/keras-applications/vgg16/vgg16_weights_tf_dim_ordering_tf_kernels_notop.h5\n",
            "58889256/58889256 [==============================] - 3s 0us/step\n",
            "Epoch 1/10\n",
            "587/587 [==============================] - 17103s 29s/step - loss: 0.3885 - accuracy: 0.8514 - val_loss: 0.2070 - val_accuracy: 0.9165\n",
            "Epoch 2/10\n",
            "587/587 [==============================] - 16066s 27s/step - loss: 0.2603 - accuracy: 0.8872 - val_loss: 0.1720 - val_accuracy: 0.9287\n",
            "Epoch 3/10\n",
            "587/587 [==============================] - 15963s 27s/step - loss: 0.2375 - accuracy: 0.8981 - val_loss: 0.1843 - val_accuracy: 0.9238\n",
            "Epoch 4/10\n",
            "587/587 [==============================] - 15924s 27s/step - loss: 0.2322 - accuracy: 0.9001 - val_loss: 0.1654 - val_accuracy: 0.9299\n",
            "Epoch 5/10\n",
            "587/587 [==============================] - 15810s 27s/step - loss: 0.2188 - accuracy: 0.9095 - val_loss: 0.1463 - val_accuracy: 0.9394\n",
            "Epoch 6/10\n",
            "177/587 [========>.....................] - ETA: 2:19:50 - loss: 0.2150 - accuracy: 0.9087"
          ]
        }
      ],
      "source": [
        "from tensorflow.keras.preprocessing.image import ImageDataGenerator\n",
        "from tensorflow.keras.applications.vgg16 import VGG16\n",
        "from tensorflow.keras.layers import Dense, Flatten\n",
        "from tensorflow.keras.models import Model\n",
        "\n",
        "# Set up data generators for training and validation\n",
        "train_dir = '/content/drive/MyDrive/DATA_4380/dataset_dogs_vs_cats/train/'\n",
        "test_dir = '/content/drive/MyDrive/DATA_4380/dataset_dogs_vs_cats/test/'\n",
        "\n",
        "train_datagen = ImageDataGenerator(\n",
        "    rescale=1./255,\n",
        "    rotation_range=20,\n",
        "    width_shift_range=0.2,\n",
        "    height_shift_range=0.2,\n",
        "    shear_range=0.2,\n",
        "    zoom_range=0.2,\n",
        "    horizontal_flip=True)\n",
        "\n",
        "test_datagen = ImageDataGenerator(rescale=1./255)\n",
        "\n",
        "train_generator = train_datagen.flow_from_directory(\n",
        "    train_dir,\n",
        "    target_size=(224, 224),\n",
        "    batch_size=32,\n",
        "    class_mode='binary')\n",
        "\n",
        "test_generator = test_datagen.flow_from_directory(\n",
        "    test_dir,\n",
        "    target_size=(224, 224),\n",
        "    batch_size=32,\n",
        "    class_mode='binary')\n",
        "\n",
        "# Load pre-trained VGG16 model without the top layer\n",
        "base_model = VGG16(weights='imagenet', include_top=False, input_shape=(224, 224, 3))\n",
        "\n",
        "# Add new top layers for classification\n",
        "x = base_model.output\n",
        "x = Flatten()(x)\n",
        "x = Dense(256, activation='relu')(x)\n",
        "predictions = Dense(1, activation='sigmoid')(x)\n",
        "\n",
        "# Combine base model with new top layers\n",
        "model = Model(inputs=base_model.input, outputs=predictions)\n",
        "\n",
        "# Freeze layers in base model\n",
        "for layer in base_model.layers:\n",
        "    layer.trainable = False\n",
        "\n",
        "# Compile model\n",
        "model.compile(optimizer='adam', loss='binary_crossentropy', metrics=['accuracy'])\n",
        "\n",
        "# Train model\n",
        "history_vgg16 = model.fit(train_generator, steps_per_epoch=train_generator.n//train_generator.batch_size,\n",
        "          epochs=10, validation_data=test_generator, validation_steps=test_generator.n//test_generator.batch_size)"
      ]
    },
    {
      "cell_type": "markdown",
      "metadata": {
        "id": "sXVr3hOlkVTP"
      },
      "source": [
        "## Save results\n",
        "Use pickle package to save training results for analysis result"
      ]
    },
    {
      "cell_type": "code",
      "execution_count": null,
      "metadata": {
        "id": "we3mtHcfkVlO"
      },
      "outputs": [],
      "source": [
        "import pickle\n",
        "\n",
        "with open('/content/drive/MyDrive/DATA_4380/history_vgg16.pkl', 'wb') as f:\n",
        "    pickle.dump(history_vgg16.history, f)"
      ]
    }
  ],
  "metadata": {
    "colab": {
      "provenance": [],
      "authorship_tag": "ABX9TyN6B+iMO6loZ1PNnxoeBzUN",
      "include_colab_link": true
    },
    "kernelspec": {
      "display_name": "Python 3",
      "name": "python3"
    },
    "language_info": {
      "name": "python"
    }
  },
  "nbformat": 4,
  "nbformat_minor": 0
}
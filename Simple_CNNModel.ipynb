{
  "cells": [
    {
      "cell_type": "markdown",
      "metadata": {
        "id": "view-in-github",
        "colab_type": "text"
      },
      "source": [
        "<a href=\"https://colab.research.google.com/github/madixson/DogsvsCats_4380Project/blob/main/Simple_CNNModel.ipynb\" target=\"_parent\"><img src=\"https://colab.research.google.com/assets/colab-badge.svg\" alt=\"Open In Colab\"/></a>"
      ]
    },
    {
      "cell_type": "code",
      "execution_count": null,
      "metadata": {
        "colab": {
          "base_uri": "https://localhost:8080/"
        },
        "id": "Gsrfh_OpeP6X",
        "outputId": "4fe7cb18-0ffb-4bd7-9fec-b82b05035eac"
      },
      "outputs": [
        {
          "name": "stdout",
          "output_type": "stream",
          "text": [
            "Mounted at /content/drive\n"
          ]
        }
      ],
      "source": [
        "from google.colab import drive\n",
        "drive.mount('/content/drive')"
      ]
    },
    {
      "cell_type": "markdown",
      "metadata": {
        "id": "vWdAsUwhg2Ax"
      },
      "source": [
        "## Build CNN Model"
      ]
    },
    {
      "cell_type": "code",
      "execution_count": null,
      "metadata": {
        "colab": {
          "background_save": true,
          "base_uri": "https://localhost:8080/"
        },
        "id": "Cu0KFY4vg_Tb",
        "outputId": "f81fe0fc-fbda-4551-ec43-d355cf66fd3c"
      },
      "outputs": [
        {
          "name": "stdout",
          "output_type": "stream",
          "text": [
            "Found 18796 images belonging to 2 classes.\n",
            "Found 6344 images belonging to 2 classes.\n"
          ]
        },
        {
          "name": "stderr",
          "output_type": "stream",
          "text": [
            "WARNING:absl:`lr` is deprecated in Keras optimizer, please use `learning_rate` or use the legacy optimizer, e.g.,tf.keras.optimizers.legacy.RMSprop.\n"
          ]
        },
        {
          "name": "stdout",
          "output_type": "stream",
          "text": [
            "Epoch 1/20\n",
            "588/588 [==============================] - 6058s 10s/step - loss: 0.6407 - accuracy: 0.6368 - val_loss: 0.5429 - val_accuracy: 0.7191\n",
            "Epoch 2/20\n",
            "588/588 [==============================] - 1338s 2s/step - loss: 0.4925 - accuracy: 0.7623 - val_loss: 0.4359 - val_accuracy: 0.7973\n",
            "Epoch 3/20\n",
            "588/588 [==============================] - 1348s 2s/step - loss: 0.4166 - accuracy: 0.8092 - val_loss: 0.4028 - val_accuracy: 0.8137\n",
            "Epoch 4/20\n",
            "588/588 [==============================] - 1344s 2s/step - loss: 0.3480 - accuracy: 0.8450 - val_loss: 0.4127 - val_accuracy: 0.8101\n",
            "Epoch 5/20\n",
            "588/588 [==============================] - 1321s 2s/step - loss: 0.2716 - accuracy: 0.8843 - val_loss: 0.4028 - val_accuracy: 0.8312\n",
            "Epoch 6/20\n",
            "588/588 [==============================] - 1336s 2s/step - loss: 0.1786 - accuracy: 0.9283 - val_loss: 0.5131 - val_accuracy: 0.8172\n",
            "Epoch 7/20\n",
            "588/588 [==============================] - 1318s 2s/step - loss: 0.1000 - accuracy: 0.9632 - val_loss: 0.5696 - val_accuracy: 0.8416\n",
            "Epoch 8/20\n",
            "588/588 [==============================] - 1257s 2s/step - loss: 0.0558 - accuracy: 0.9794 - val_loss: 0.7692 - val_accuracy: 0.8381\n",
            "Epoch 9/20\n",
            "588/588 [==============================] - 1288s 2s/step - loss: 0.0361 - accuracy: 0.9875 - val_loss: 0.9148 - val_accuracy: 0.8334\n",
            "Epoch 10/20\n",
            "588/588 [==============================] - 1345s 2s/step - loss: 0.0324 - accuracy: 0.9911 - val_loss: 1.2514 - val_accuracy: 0.8187\n",
            "Epoch 11/20\n",
            "588/588 [==============================] - 1338s 2s/step - loss: 0.0248 - accuracy: 0.9922 - val_loss: 1.1780 - val_accuracy: 0.8244\n",
            "Epoch 12/20\n",
            "588/588 [==============================] - 1314s 2s/step - loss: 0.0237 - accuracy: 0.9931 - val_loss: 1.5492 - val_accuracy: 0.8274\n",
            "Epoch 13/20\n",
            "588/588 [==============================] - 1261s 2s/step - loss: 0.0321 - accuracy: 0.9910 - val_loss: 1.5061 - val_accuracy: 0.8247\n",
            "Epoch 14/20\n",
            "588/588 [==============================] - 1263s 2s/step - loss: 0.0212 - accuracy: 0.9937 - val_loss: 1.3604 - val_accuracy: 0.8246\n",
            "Epoch 15/20\n",
            "588/588 [==============================] - 1295s 2s/step - loss: 0.0208 - accuracy: 0.9943 - val_loss: 1.5823 - val_accuracy: 0.8159\n",
            "Epoch 16/20\n",
            "588/588 [==============================] - 1315s 2s/step - loss: 0.0245 - accuracy: 0.9949 - val_loss: 1.7049 - val_accuracy: 0.8265\n",
            "Epoch 17/20\n",
            "588/588 [==============================] - 1309s 2s/step - loss: 0.0238 - accuracy: 0.9945 - val_loss: 1.8437 - val_accuracy: 0.8206\n",
            "Epoch 18/20\n",
            "588/588 [==============================] - 1306s 2s/step - loss: 0.0209 - accuracy: 0.9945 - val_loss: 2.1456 - val_accuracy: 0.8246\n",
            "Epoch 19/20\n",
            "588/588 [==============================] - 1313s 2s/step - loss: 0.0199 - accuracy: 0.9957 - val_loss: 2.0951 - val_accuracy: 0.8148\n",
            "Epoch 20/20\n",
            "588/588 [==============================] - 1304s 2s/step - loss: 0.0210 - accuracy: 0.9963 - val_loss: 2.3197 - val_accuracy: 0.8231\n"
          ]
        }
      ],
      "source": [
        "# Import necesssary packages\n",
        "import os\n",
        "import numpy as np\n",
        "import tensorflow as tf\n",
        "from tensorflow.keras.preprocessing.image import ImageDataGenerator\n",
        "\n",
        "# Set the data directories\n",
        "train_dir = '/content/drive/MyDrive/DATA_4380/dataset_dogs_vs_cats/train/'\n",
        "test_dir = '/content/drive/MyDrive/DATA_4380/dataset_dogs_vs_cats/test/'\n",
        "\n",
        "# Set the image size and batch size\n",
        "img_size = (150, 150)\n",
        "batch_size = 32\n",
        "\n",
        "# Use the ImageDataGenerator class to rescale the pixel values of the images\n",
        "train_datagen = ImageDataGenerator(rescale=1./255)\n",
        "test_datagen = ImageDataGenerator(rescale=1./255)\n",
        "\n",
        "# Generate batches of training and test data\n",
        "train_generator = train_datagen.flow_from_directory(\n",
        "    train_dir,\n",
        "    target_size=img_size,\n",
        "    batch_size=batch_size,\n",
        "    class_mode='binary'\n",
        ")\n",
        "test_generator = test_datagen.flow_from_directory(\n",
        "    test_dir,\n",
        "    target_size=img_size,\n",
        "    batch_size=batch_size,\n",
        "    class_mode='binary'\n",
        ")\n",
        "\n",
        "# Build the CNN model\n",
        "model = tf.keras.models.Sequential([\n",
        "    tf.keras.layers.Conv2D(32, (3,3), activation='relu', input_shape=(150,150,3)),\n",
        "    tf.keras.layers.MaxPooling2D(2,2),\n",
        "    tf.keras.layers.Conv2D(64, (3,3), activation='relu'),\n",
        "    tf.keras.layers.MaxPooling2D(2,2),\n",
        "    tf.keras.layers.Conv2D(128, (3,3), activation='relu'),\n",
        "    tf.keras.layers.MaxPooling2D(2,2),\n",
        "    tf.keras.layers.Flatten(),\n",
        "    tf.keras.layers.Dense(512, activation='relu'),\n",
        "    tf.keras.layers.Dense(1, activation='sigmoid')\n",
        "])\n",
        "\n",
        "# Compile the model\n",
        "model.compile(loss='binary_crossentropy', optimizer=tf.keras.optimizers.RMSprop(lr=1e-4), metrics=['accuracy'])\n",
        "\n",
        "# Train the model\n",
        "history_simpleCNN = model.fit(train_generator, steps_per_epoch=len(train_generator), epochs=20, validation_data=test_generator, validation_steps=len(test_generator))\n"
      ]
    },
    {
      "cell_type": "markdown",
      "metadata": {
        "id": "0zBjWoxqhUvY"
      },
      "source": [
        "## Save results\n",
        "Use pickle package to save training results for analysis result"
      ]
    },
    {
      "cell_type": "code",
      "execution_count": null,
      "metadata": {
        "colab": {
          "background_save": true
        },
        "id": "DCROnDckhT44"
      },
      "outputs": [],
      "source": [
        "import pickle\n",
        "\n",
        "with open('/content/drive/MyDrive/DATA_4380/history_simpleCNN.pkl', 'wb') as f:\n",
        "    pickle.dump(history_simpleCNN.history, f)\n"
      ]
    }
  ],
  "metadata": {
    "colab": {
      "provenance": [],
      "authorship_tag": "ABX9TyO40wziVGzfovj17Uke9bvc",
      "include_colab_link": true
    },
    "kernelspec": {
      "display_name": "Python 3",
      "name": "python3"
    },
    "language_info": {
      "name": "python"
    }
  },
  "nbformat": 4,
  "nbformat_minor": 0
}